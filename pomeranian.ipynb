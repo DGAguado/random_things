{
 "cells": [
  {
   "cell_type": "code",
   "execution_count": 1,
   "id": "db5007e1",
   "metadata": {},
   "outputs": [],
   "source": [
    "#!pip install voila\n",
    "#!pip install autocalc"
   ]
  },
  {
   "cell_type": "code",
   "execution_count": 2,
   "id": "2d844406",
   "metadata": {},
   "outputs": [],
   "source": [
    "import ipywidgets as widgets\n",
    "from autocalc.autocalc import Var\n",
    "import math"
   ]
  },
  {
   "cell_type": "markdown",
   "id": "cfd766bc",
   "metadata": {},
   "source": [
    "## Inputs"
   ]
  },
  {
   "cell_type": "code",
   "execution_count": 3,
   "id": "a79d9291",
   "metadata": {},
   "outputs": [
    {
     "data": {
      "application/vnd.jupyter.widget-view+json": {
       "model_id": "a65502a1cd5d4d3dbbeed3b0b4332766",
       "version_major": 2,
       "version_minor": 0
      },
      "text/plain": [
       "HBox(children=(Button(description='a', disabled=True, style=ButtonStyle(button_color='lightgreen')), FloatText…"
      ]
     },
     "metadata": {},
     "output_type": "display_data"
    },
    {
     "data": {
      "application/vnd.jupyter.widget-view+json": {
       "model_id": "e13aefd9ae5548e99ee3daff89bf6990",
       "version_major": 2,
       "version_minor": 0
      },
      "text/plain": [
       "HBox(children=(Button(description='b', disabled=True, style=ButtonStyle(button_color='lightgreen')), FloatText…"
      ]
     },
     "metadata": {},
     "output_type": "display_data"
    },
    {
     "data": {
      "application/vnd.jupyter.widget-view+json": {
       "model_id": "bb1a55116d61490eb10806207d9e6e09",
       "version_major": 2,
       "version_minor": 0
      },
      "text/plain": [
       "HBox(children=(Button(description='c', disabled=True, style=ButtonStyle(button_color='lightgreen')), FloatText…"
      ]
     },
     "metadata": {},
     "output_type": "display_data"
    }
   ],
   "source": [
    "# By adding the Var \"wrapper\" around our variables we make them a node in our DAG\n",
    "\n",
    "# The first parameter is the name, which is arbitrary and will only be used for display purposes\n",
    "# It is optional to add a widget to a Var, but this makes it possible to use them as either input or output variables\n",
    "a = Var('a', initial_value = 1, widget = widgets.FloatText())\n",
    "b = Var('b', initial_value = -3, widget = widgets.FloatText())\n",
    "c = Var('c', initial_value = 1, widget = widgets.FloatText())\n",
    "\n",
    "display(a)\n",
    "display(b)\n",
    "display(c)"
   ]
  },
  {
   "cell_type": "code",
   "execution_count": 4,
   "id": "6c1a292c",
   "metadata": {},
   "outputs": [],
   "source": [
    "# Introduce D"
   ]
  },
  {
   "cell_type": "code",
   "execution_count": 5,
   "id": "4b0b2161",
   "metadata": {},
   "outputs": [],
   "source": [
    "# We use the same function as before to calculate D, except we add a bit of error protection.\n",
    "# One of the advantages of using autocalc is the reusability of your existing functions.\n",
    "\n",
    "def Dfun(a, b, c):\n",
    "    try:\n",
    "        return math.sqrt(b*b-4*a*c)\n",
    "    except ValueError:\n",
    "        return math.nan\n",
    "    \n",
    "# D is also wrapped in a Var. Note, that D does not have any initial value, nor any widget associated with it.\n",
    "# Instead it has a calculation function (Dfun) and we build the dependecy graph inside the Var constructor, by \n",
    "# listing which Var objects to use for the inputs of the function.\n",
    "\n",
    "D = Var('D', fun=Dfun, inputs=[a, b, c])"
   ]
  },
  {
   "cell_type": "markdown",
   "id": "e09c1f15",
   "metadata": {},
   "source": [
    "## Solutions"
   ]
  },
  {
   "cell_type": "code",
   "execution_count": 6,
   "id": "a674622e",
   "metadata": {},
   "outputs": [
    {
     "data": {
      "application/vnd.jupyter.widget-view+json": {
       "model_id": "0684e2c4453347669a05481ed801abcc",
       "version_major": 2,
       "version_minor": 0
      },
      "text/plain": [
       "HBox(children=(Button(description='X1', disabled=True, style=ButtonStyle(button_color='lightgreen')), FloatTex…"
      ]
     },
     "metadata": {},
     "output_type": "display_data"
    },
    {
     "data": {
      "application/vnd.jupyter.widget-view+json": {
       "model_id": "54f7a410e62640c59cb78e3b2563aedc",
       "version_major": 2,
       "version_minor": 0
      },
      "text/plain": [
       "HBox(children=(Button(description='X2', disabled=True, style=ButtonStyle(button_color='lightgreen')), FloatTex…"
      ]
     },
     "metadata": {},
     "output_type": "display_data"
    }
   ],
   "source": [
    "# Similarly to D, x1 and x2 are also calculated by the same function as before\n",
    "\n",
    "def x1fun(a,b,D):\n",
    "    return (-b-D)/2/a\n",
    "def x2fun(a,b,D):\n",
    "    return (-b+D)/2/a\n",
    "\n",
    "# Note, that although x1 and x2 are calculated, they also have widgets, so their value can easily be displayed,\n",
    "# when changed.\n",
    "# These variables are set to read-only, which will also set the widgets to a read-only state.\n",
    "# Note, that just because a Var has an input function it is not necessarily read-only: in some situations we would\n",
    "# like to allow the user to overwrite calculated values.\n",
    "x1 = Var('X1', fun=x1fun, inputs=[a, b, D], widget = widgets.FloatText(), read_only=True)\n",
    "x2 = Var('X2', fun=x2fun, inputs=[a, b, D], widget = widgets.FloatText(), read_only=True)\n",
    "display(x1)\n",
    "display(x2)"
   ]
  },
  {
   "cell_type": "markdown",
   "id": "fcd9b66e",
   "metadata": {},
   "source": [
    "## Check"
   ]
  },
  {
   "cell_type": "code",
   "execution_count": 8,
   "id": "0d58218f",
   "metadata": {},
   "outputs": [
    {
     "data": {
      "application/vnd.jupyter.widget-view+json": {
       "model_id": "a0b79cad909b4f8f83409aa235640430",
       "version_major": 2,
       "version_minor": 0
      },
      "text/plain": [
       "HBox(children=(Button(description='C1', disabled=True, style=ButtonStyle(button_color='lightgreen')), FloatTex…"
      ]
     },
     "metadata": {},
     "output_type": "display_data"
    },
    {
     "data": {
      "application/vnd.jupyter.widget-view+json": {
       "model_id": "4a288bb0b1ea48c08b2da7ca59162780",
       "version_major": 2,
       "version_minor": 0
      },
      "text/plain": [
       "HBox(children=(Button(description='C2', disabled=True, style=ButtonStyle(button_color='lightgreen')), FloatTex…"
      ]
     },
     "metadata": {},
     "output_type": "display_data"
    }
   ],
   "source": [
    "def v(a, b, c, x):\n",
    "    return a*x*x+b*x+c\n",
    "\n",
    "check1 = Var('C1', fun=v, inputs=[a, b, c, x1], widget = widgets.FloatText(), read_only=True)\n",
    "check2 = Var('C2', fun=v, inputs=[a, b, c, x2], widget = widgets.FloatText(), read_only=True)\n",
    "display(check1); display(check2)"
   ]
  }
 ],
 "metadata": {
  "kernelspec": {
   "display_name": "Python 3 (ipykernel)",
   "language": "python",
   "name": "python3"
  },
  "language_info": {
   "codemirror_mode": {
    "name": "ipython",
    "version": 3
   },
   "file_extension": ".py",
   "mimetype": "text/x-python",
   "name": "python",
   "nbconvert_exporter": "python",
   "pygments_lexer": "ipython3",
   "version": "3.9.12"
  }
 },
 "nbformat": 4,
 "nbformat_minor": 5
}
